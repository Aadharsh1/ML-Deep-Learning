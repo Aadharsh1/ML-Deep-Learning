{
  "nbformat": 4,
  "nbformat_minor": 0,
  "metadata": {
    "colab": {
      "provenance": [],
      "machine_shape": "hm",
      "gpuType": "A100"
    },
    "kernelspec": {
      "name": "python3",
      "display_name": "Python 3"
    },
    "language_info": {
      "name": "python"
    },
    "accelerator": "GPU"
  },
  "cells": [
    {
      "cell_type": "code",
      "source": [
        "!git clone https://github.com/facebookresearch/VideoPose3D"
      ],
      "metadata": {
        "colab": {
          "base_uri": "https://localhost:8080/"
        },
        "id": "sxNO8qxC3sC_",
        "outputId": "f77439dc-146b-4f57-d4ba-69cd0e0d9039"
      },
      "execution_count": 2,
      "outputs": [
        {
          "output_type": "stream",
          "name": "stdout",
          "text": [
            "Cloning into 'VideoPose3D'...\n",
            "remote: Enumerating objects: 121, done.\u001b[K\n",
            "remote: Total 121 (delta 0), reused 0 (delta 0), pack-reused 121\u001b[K\n",
            "Receiving objects: 100% (121/121), 9.53 MiB | 6.33 MiB/s, done.\n",
            "Resolving deltas: 100% (41/41), done.\n"
          ]
        }
      ]
    },
    {
      "cell_type": "code",
      "source": [
        "cd VideoPose3D"
      ],
      "metadata": {
        "colab": {
          "base_uri": "https://localhost:8080/"
        },
        "id": "3Ar18Pqe4Zis",
        "outputId": "01d6de5d-8e05-4c59-8a88-d5fdaa0e467a"
      },
      "execution_count": 3,
      "outputs": [
        {
          "output_type": "stream",
          "name": "stdout",
          "text": [
            "/content/VideoPose3D\n"
          ]
        }
      ]
    },
    {
      "cell_type": "code",
      "source": [
        "mkdir checkpoint"
      ],
      "metadata": {
        "id": "2LYFOsBy4vIM"
      },
      "execution_count": 4,
      "outputs": []
    },
    {
      "cell_type": "code",
      "source": [
        "cd checkpoint"
      ],
      "metadata": {
        "colab": {
          "base_uri": "https://localhost:8080/"
        },
        "id": "w3nSmZ3p46AU",
        "outputId": "a6c8c09c-c5ff-44e7-d437-0c5c83b11dbd"
      },
      "execution_count": 5,
      "outputs": [
        {
          "output_type": "stream",
          "name": "stdout",
          "text": [
            "/content/VideoPose3D/checkpoint\n"
          ]
        }
      ]
    },
    {
      "cell_type": "code",
      "source": [
        "!wget https://dl.fbaipublicfiles.com/video-pose-3d/pretrained_h36m_detectron_coco.bin"
      ],
      "metadata": {
        "colab": {
          "base_uri": "https://localhost:8080/"
        },
        "id": "zQd_ncdo4zzj",
        "outputId": "31be3f77-104f-4a63-f86a-ef6713c3c457"
      },
      "execution_count": 6,
      "outputs": [
        {
          "output_type": "stream",
          "name": "stdout",
          "text": [
            "--2024-07-18 05:56:20--  https://dl.fbaipublicfiles.com/video-pose-3d/pretrained_h36m_detectron_coco.bin\n",
            "Resolving dl.fbaipublicfiles.com (dl.fbaipublicfiles.com)... 18.67.181.91, 18.67.181.99, 18.67.181.104, ...\n",
            "Connecting to dl.fbaipublicfiles.com (dl.fbaipublicfiles.com)|18.67.181.91|:443... connected.\n",
            "HTTP request sent, awaiting response... 200 OK\n",
            "Length: 67892577 (65M) [application/octet-stream]\n",
            "Saving to: ‘pretrained_h36m_detectron_coco.bin’\n",
            "\n",
            "pretrained_h36m_det 100%[===================>]  64.75M   242MB/s    in 0.3s    \n",
            "\n",
            "2024-07-18 05:56:21 (242 MB/s) - ‘pretrained_h36m_detectron_coco.bin’ saved [67892577/67892577]\n",
            "\n"
          ]
        }
      ]
    },
    {
      "cell_type": "code",
      "source": [
        "cd /content"
      ],
      "metadata": {
        "colab": {
          "base_uri": "https://localhost:8080/"
        },
        "id": "QJ7U9iWC412b",
        "outputId": "d60afed8-c73b-457b-b359-89b3ec6452c8"
      },
      "execution_count": 9,
      "outputs": [
        {
          "output_type": "stream",
          "name": "stdout",
          "text": [
            "/content\n"
          ]
        }
      ]
    },
    {
      "cell_type": "code",
      "source": [
        "!mkdir inputs\n",
        "#put all the videos you want to do pose prediction on in this folder"
      ],
      "metadata": {
        "id": "h6as5dwvYIHN"
      },
      "execution_count": 11,
      "outputs": []
    },
    {
      "cell_type": "code",
      "source": [
        "!mkdir output\n",
        "#this is the npz file with keypoints"
      ],
      "metadata": {
        "id": "EyVY4QQ7YUtq"
      },
      "execution_count": 12,
      "outputs": []
    },
    {
      "cell_type": "code",
      "source": [
        "!mkdir results\n",
        "#final video results are stored here"
      ],
      "metadata": {
        "id": "OnQw3rzgYej8"
      },
      "execution_count": 13,
      "outputs": []
    },
    {
      "cell_type": "code",
      "source": [
        "!mkdir coordinates\n",
        "#coords of keypoints in the video"
      ],
      "metadata": {
        "id": "qk_MK55PYhvG"
      },
      "execution_count": 14,
      "outputs": []
    },
    {
      "cell_type": "code",
      "source": [
        "!python -m pip install 'git+https://github.com/facebookresearch/detectron2.git'"
      ],
      "metadata": {
        "colab": {
          "base_uri": "https://localhost:8080/"
        },
        "id": "7W25ZWQs9sRw",
        "outputId": "78680547-4f07-43d9-d9fe-216ff4023e88"
      },
      "execution_count": 1,
      "outputs": [
        {
          "output_type": "stream",
          "name": "stdout",
          "text": [
            "Collecting git+https://github.com/facebookresearch/detectron2.git\n",
            "  Cloning https://github.com/facebookresearch/detectron2.git to /tmp/pip-req-build-u3fr4dis\n",
            "  Running command git clone --filter=blob:none --quiet https://github.com/facebookresearch/detectron2.git /tmp/pip-req-build-u3fr4dis\n",
            "  Resolved https://github.com/facebookresearch/detectron2.git to commit 2a420edb307c9bdf640f036d3b196bed474b8593\n",
            "  Preparing metadata (setup.py) ... \u001b[?25l\u001b[?25hdone\n",
            "Requirement already satisfied: Pillow>=7.1 in /usr/local/lib/python3.10/dist-packages (from detectron2==0.6) (9.4.0)\n",
            "Requirement already satisfied: matplotlib in /usr/local/lib/python3.10/dist-packages (from detectron2==0.6) (3.7.1)\n",
            "Requirement already satisfied: pycocotools>=2.0.2 in /usr/local/lib/python3.10/dist-packages (from detectron2==0.6) (2.0.8)\n",
            "Requirement already satisfied: termcolor>=1.1 in /usr/local/lib/python3.10/dist-packages (from detectron2==0.6) (2.4.0)\n",
            "Collecting yacs>=0.1.8 (from detectron2==0.6)\n",
            "  Downloading yacs-0.1.8-py3-none-any.whl (14 kB)\n",
            "Requirement already satisfied: tabulate in /usr/local/lib/python3.10/dist-packages (from detectron2==0.6) (0.9.0)\n",
            "Requirement already satisfied: cloudpickle in /usr/local/lib/python3.10/dist-packages (from detectron2==0.6) (2.2.1)\n",
            "Requirement already satisfied: tqdm>4.29.0 in /usr/local/lib/python3.10/dist-packages (from detectron2==0.6) (4.66.4)\n",
            "Requirement already satisfied: tensorboard in /usr/local/lib/python3.10/dist-packages (from detectron2==0.6) (2.15.2)\n",
            "Collecting fvcore<0.1.6,>=0.1.5 (from detectron2==0.6)\n",
            "  Downloading fvcore-0.1.5.post20221221.tar.gz (50 kB)\n",
            "\u001b[2K     \u001b[90m━━━━━━━━━━━━━━━━━━━━━━━━━━━━━━━━━━━━━━━━\u001b[0m \u001b[32m50.2/50.2 kB\u001b[0m \u001b[31m2.1 MB/s\u001b[0m eta \u001b[36m0:00:00\u001b[0m\n",
            "\u001b[?25h  Preparing metadata (setup.py) ... \u001b[?25l\u001b[?25hdone\n",
            "Collecting iopath<0.1.10,>=0.1.7 (from detectron2==0.6)\n",
            "  Downloading iopath-0.1.9-py3-none-any.whl (27 kB)\n",
            "Collecting omegaconf<2.4,>=2.1 (from detectron2==0.6)\n",
            "  Downloading omegaconf-2.3.0-py3-none-any.whl (79 kB)\n",
            "\u001b[2K     \u001b[90m━━━━━━━━━━━━━━━━━━━━━━━━━━━━━━━━━━━━━━━━\u001b[0m \u001b[32m79.5/79.5 kB\u001b[0m \u001b[31m5.9 MB/s\u001b[0m eta \u001b[36m0:00:00\u001b[0m\n",
            "\u001b[?25hCollecting hydra-core>=1.1 (from detectron2==0.6)\n",
            "  Downloading hydra_core-1.3.2-py3-none-any.whl (154 kB)\n",
            "\u001b[2K     \u001b[90m━━━━━━━━━━━━━━━━━━━━━━━━━━━━━━━━━━━━━━━━\u001b[0m \u001b[32m154.5/154.5 kB\u001b[0m \u001b[31m14.6 MB/s\u001b[0m eta \u001b[36m0:00:00\u001b[0m\n",
            "\u001b[?25hCollecting black (from detectron2==0.6)\n",
            "  Downloading black-24.4.2-cp310-cp310-manylinux_2_17_x86_64.manylinux2014_x86_64.whl (1.8 MB)\n",
            "\u001b[2K     \u001b[90m━━━━━━━━━━━━━━━━━━━━━━━━━━━━━━━━━━━━━━━━\u001b[0m \u001b[32m1.8/1.8 MB\u001b[0m \u001b[31m60.5 MB/s\u001b[0m eta \u001b[36m0:00:00\u001b[0m\n",
            "\u001b[?25hRequirement already satisfied: packaging in /usr/local/lib/python3.10/dist-packages (from detectron2==0.6) (24.1)\n",
            "Requirement already satisfied: numpy in /usr/local/lib/python3.10/dist-packages (from fvcore<0.1.6,>=0.1.5->detectron2==0.6) (1.25.2)\n",
            "Requirement already satisfied: pyyaml>=5.1 in /usr/local/lib/python3.10/dist-packages (from fvcore<0.1.6,>=0.1.5->detectron2==0.6) (6.0.1)\n",
            "Collecting antlr4-python3-runtime==4.9.* (from hydra-core>=1.1->detectron2==0.6)\n",
            "  Downloading antlr4-python3-runtime-4.9.3.tar.gz (117 kB)\n",
            "\u001b[2K     \u001b[90m━━━━━━━━━━━━━━━━━━━━━━━━━━━━━━━━━━━━━━━━\u001b[0m \u001b[32m117.0/117.0 kB\u001b[0m \u001b[31m16.7 MB/s\u001b[0m eta \u001b[36m0:00:00\u001b[0m\n",
            "\u001b[?25h  Preparing metadata (setup.py) ... \u001b[?25l\u001b[?25hdone\n",
            "Collecting portalocker (from iopath<0.1.10,>=0.1.7->detectron2==0.6)\n",
            "  Downloading portalocker-2.10.1-py3-none-any.whl (18 kB)\n",
            "Requirement already satisfied: contourpy>=1.0.1 in /usr/local/lib/python3.10/dist-packages (from matplotlib->detectron2==0.6) (1.2.1)\n",
            "Requirement already satisfied: cycler>=0.10 in /usr/local/lib/python3.10/dist-packages (from matplotlib->detectron2==0.6) (0.12.1)\n",
            "Requirement already satisfied: fonttools>=4.22.0 in /usr/local/lib/python3.10/dist-packages (from matplotlib->detectron2==0.6) (4.53.1)\n",
            "Requirement already satisfied: kiwisolver>=1.0.1 in /usr/local/lib/python3.10/dist-packages (from matplotlib->detectron2==0.6) (1.4.5)\n",
            "Requirement already satisfied: pyparsing>=2.3.1 in /usr/local/lib/python3.10/dist-packages (from matplotlib->detectron2==0.6) (3.1.2)\n",
            "Requirement already satisfied: python-dateutil>=2.7 in /usr/local/lib/python3.10/dist-packages (from matplotlib->detectron2==0.6) (2.8.2)\n",
            "Requirement already satisfied: click>=8.0.0 in /usr/local/lib/python3.10/dist-packages (from black->detectron2==0.6) (8.1.7)\n",
            "Collecting mypy-extensions>=0.4.3 (from black->detectron2==0.6)\n",
            "  Downloading mypy_extensions-1.0.0-py3-none-any.whl (4.7 kB)\n",
            "Collecting pathspec>=0.9.0 (from black->detectron2==0.6)\n",
            "  Downloading pathspec-0.12.1-py3-none-any.whl (31 kB)\n",
            "Requirement already satisfied: platformdirs>=2 in /usr/local/lib/python3.10/dist-packages (from black->detectron2==0.6) (4.2.2)\n",
            "Requirement already satisfied: tomli>=1.1.0 in /usr/local/lib/python3.10/dist-packages (from black->detectron2==0.6) (2.0.1)\n",
            "Requirement already satisfied: typing-extensions>=4.0.1 in /usr/local/lib/python3.10/dist-packages (from black->detectron2==0.6) (4.12.2)\n",
            "Requirement already satisfied: absl-py>=0.4 in /usr/local/lib/python3.10/dist-packages (from tensorboard->detectron2==0.6) (1.4.0)\n",
            "Requirement already satisfied: grpcio>=1.48.2 in /usr/local/lib/python3.10/dist-packages (from tensorboard->detectron2==0.6) (1.64.1)\n",
            "Requirement already satisfied: google-auth<3,>=1.6.3 in /usr/local/lib/python3.10/dist-packages (from tensorboard->detectron2==0.6) (2.27.0)\n",
            "Requirement already satisfied: google-auth-oauthlib<2,>=0.5 in /usr/local/lib/python3.10/dist-packages (from tensorboard->detectron2==0.6) (1.2.1)\n",
            "Requirement already satisfied: markdown>=2.6.8 in /usr/local/lib/python3.10/dist-packages (from tensorboard->detectron2==0.6) (3.6)\n",
            "Requirement already satisfied: protobuf!=4.24.0,>=3.19.6 in /usr/local/lib/python3.10/dist-packages (from tensorboard->detectron2==0.6) (3.20.3)\n",
            "Requirement already satisfied: requests<3,>=2.21.0 in /usr/local/lib/python3.10/dist-packages (from tensorboard->detectron2==0.6) (2.31.0)\n",
            "Requirement already satisfied: setuptools>=41.0.0 in /usr/local/lib/python3.10/dist-packages (from tensorboard->detectron2==0.6) (67.7.2)\n",
            "Requirement already satisfied: six>1.9 in /usr/local/lib/python3.10/dist-packages (from tensorboard->detectron2==0.6) (1.16.0)\n",
            "Requirement already satisfied: tensorboard-data-server<0.8.0,>=0.7.0 in /usr/local/lib/python3.10/dist-packages (from tensorboard->detectron2==0.6) (0.7.2)\n",
            "Requirement already satisfied: werkzeug>=1.0.1 in /usr/local/lib/python3.10/dist-packages (from tensorboard->detectron2==0.6) (3.0.3)\n",
            "Requirement already satisfied: cachetools<6.0,>=2.0.0 in /usr/local/lib/python3.10/dist-packages (from google-auth<3,>=1.6.3->tensorboard->detectron2==0.6) (5.3.3)\n",
            "Requirement already satisfied: pyasn1-modules>=0.2.1 in /usr/local/lib/python3.10/dist-packages (from google-auth<3,>=1.6.3->tensorboard->detectron2==0.6) (0.4.0)\n",
            "Requirement already satisfied: rsa<5,>=3.1.4 in /usr/local/lib/python3.10/dist-packages (from google-auth<3,>=1.6.3->tensorboard->detectron2==0.6) (4.9)\n",
            "Requirement already satisfied: requests-oauthlib>=0.7.0 in /usr/local/lib/python3.10/dist-packages (from google-auth-oauthlib<2,>=0.5->tensorboard->detectron2==0.6) (1.3.1)\n",
            "Requirement already satisfied: charset-normalizer<4,>=2 in /usr/local/lib/python3.10/dist-packages (from requests<3,>=2.21.0->tensorboard->detectron2==0.6) (3.3.2)\n",
            "Requirement already satisfied: idna<4,>=2.5 in /usr/local/lib/python3.10/dist-packages (from requests<3,>=2.21.0->tensorboard->detectron2==0.6) (3.7)\n",
            "Requirement already satisfied: urllib3<3,>=1.21.1 in /usr/local/lib/python3.10/dist-packages (from requests<3,>=2.21.0->tensorboard->detectron2==0.6) (2.0.7)\n",
            "Requirement already satisfied: certifi>=2017.4.17 in /usr/local/lib/python3.10/dist-packages (from requests<3,>=2.21.0->tensorboard->detectron2==0.6) (2024.7.4)\n",
            "Requirement already satisfied: MarkupSafe>=2.1.1 in /usr/local/lib/python3.10/dist-packages (from werkzeug>=1.0.1->tensorboard->detectron2==0.6) (2.1.5)\n",
            "Requirement already satisfied: pyasn1<0.7.0,>=0.4.6 in /usr/local/lib/python3.10/dist-packages (from pyasn1-modules>=0.2.1->google-auth<3,>=1.6.3->tensorboard->detectron2==0.6) (0.6.0)\n",
            "Requirement already satisfied: oauthlib>=3.0.0 in /usr/local/lib/python3.10/dist-packages (from requests-oauthlib>=0.7.0->google-auth-oauthlib<2,>=0.5->tensorboard->detectron2==0.6) (3.2.2)\n",
            "Building wheels for collected packages: detectron2, fvcore, antlr4-python3-runtime\n",
            "  Building wheel for detectron2 (setup.py) ... \u001b[?25l\u001b[?25hdone\n",
            "  Created wheel for detectron2: filename=detectron2-0.6-cp310-cp310-linux_x86_64.whl size=6173934 sha256=74ed75ac969fe1f5b83761f7d0197fe6160d9cd3b9abd7e81eb56df7f2061ff6\n",
            "  Stored in directory: /tmp/pip-ephem-wheel-cache-3ewwa208/wheels/47/e5/15/94c80df2ba85500c5d76599cc307c0a7079d0e221bb6fc4375\n",
            "  Building wheel for fvcore (setup.py) ... \u001b[?25l\u001b[?25hdone\n",
            "  Created wheel for fvcore: filename=fvcore-0.1.5.post20221221-py3-none-any.whl size=61400 sha256=760f91cadf578b37f54fca6960d114dbc1f3bf2bf16047361b35f04bd7d551ce\n",
            "  Stored in directory: /root/.cache/pip/wheels/01/c0/af/77c1cf53a1be9e42a52b48e5af2169d40ec2e89f7362489dd0\n",
            "  Building wheel for antlr4-python3-runtime (setup.py) ... \u001b[?25l\u001b[?25hdone\n",
            "  Created wheel for antlr4-python3-runtime: filename=antlr4_python3_runtime-4.9.3-py3-none-any.whl size=144554 sha256=c3b62ee7ddb078cafd09447b24ea5ea5bdd77546093a27033a6bd05328f734a5\n",
            "  Stored in directory: /root/.cache/pip/wheels/12/93/dd/1f6a127edc45659556564c5730f6d4e300888f4bca2d4c5a88\n",
            "Successfully built detectron2 fvcore antlr4-python3-runtime\n",
            "Installing collected packages: antlr4-python3-runtime, yacs, portalocker, pathspec, omegaconf, mypy-extensions, iopath, hydra-core, black, fvcore, detectron2\n",
            "Successfully installed antlr4-python3-runtime-4.9.3 black-24.4.2 detectron2-0.6 fvcore-0.1.5.post20221221 hydra-core-1.3.2 iopath-0.1.9 mypy-extensions-1.0.0 omegaconf-2.3.0 pathspec-0.12.1 portalocker-2.10.1 yacs-0.1.8\n"
          ]
        }
      ]
    },
    {
      "cell_type": "code",
      "source": [
        "import torch, detectron2\n",
        "!nvcc --version\n",
        "TORCH_VERSION = \".\".join(torch.__version__.split(\".\")[:2])\n",
        "CUDA_VERSION = torch.__version__.split(\"+\")[-1]\n",
        "print(\"torch: \", TORCH_VERSION, \"; cuda: \", CUDA_VERSION)\n",
        "print(\"detectron2:\", detectron2.__version__)"
      ],
      "metadata": {
        "colab": {
          "base_uri": "https://localhost:8080/"
        },
        "id": "SP7BbOm-83R1",
        "outputId": "951d0e1d-7f64-4040-dd6f-1c76b73e448c"
      },
      "execution_count": 15,
      "outputs": [
        {
          "output_type": "stream",
          "name": "stdout",
          "text": [
            "nvcc: NVIDIA (R) Cuda compiler driver\n",
            "Copyright (c) 2005-2023 NVIDIA Corporation\n",
            "Built on Tue_Aug_15_22:02:13_PDT_2023\n",
            "Cuda compilation tools, release 12.2, V12.2.140\n",
            "Build cuda_12.2.r12.2/compiler.33191640_0\n",
            "torch:  2.3 ; cuda:  cu121\n",
            "detectron2: 0.6\n"
          ]
        }
      ]
    },
    {
      "cell_type": "code",
      "source": [
        "cd /content/VideoPose3D/inference"
      ],
      "metadata": {
        "colab": {
          "base_uri": "https://localhost:8080/"
        },
        "id": "ygnZRXuJ7pSH",
        "outputId": "802350a7-06e2-4f0f-9aea-dee2cebb03a3"
      },
      "execution_count": 16,
      "outputs": [
        {
          "output_type": "stream",
          "name": "stdout",
          "text": [
            "/content/VideoPose3D/inference\n"
          ]
        }
      ]
    },
    {
      "cell_type": "markdown",
      "source": [
        "###REPLACE /VideoPose3d/inference/infer_video_d2.py script with the code below\n",
        "\n",
        "no need to run the code, just replace the script with it."
      ],
      "metadata": {
        "id": "mEJfJ8Vyatay"
      }
    },
    {
      "cell_type": "code",
      "source": [
        "import detectron2\n",
        "from detectron2.utils.logger import setup_logger\n",
        "from detectron2.config import get_cfg\n",
        "from detectron2 import model_zoo\n",
        "from detectron2.engine import DefaultPredictor\n",
        "\n",
        "import subprocess as sp\n",
        "import numpy as np\n",
        "import time\n",
        "import argparse\n",
        "import sys\n",
        "import os\n",
        "import glob\n",
        "\n",
        "def parse_args():\n",
        "    parser = argparse.ArgumentParser(description='End-to-end inference')\n",
        "    parser.add_argument(\n",
        "        '--cfg',\n",
        "        dest='cfg',\n",
        "        help='cfg model file (/path/to/model_config.yaml)',\n",
        "        default=None,\n",
        "        type=str\n",
        "    )\n",
        "    parser.add_argument(\n",
        "        '--output-dir',\n",
        "        dest='output_dir',\n",
        "        help='directory for visualization pdfs (default: /tmp/infer_simple)',\n",
        "        default='/tmp/infer_simple',\n",
        "        type=str\n",
        "    )\n",
        "    parser.add_argument(\n",
        "        '--image-ext',\n",
        "        dest='image_ext',\n",
        "        help='image file name extension (default: mp4)',\n",
        "        default='mp4',\n",
        "        type=str\n",
        "    )\n",
        "    parser.add_argument(\n",
        "        'im_or_folder', help='image or folder of images', default=None\n",
        "    )\n",
        "    if len(sys.argv) == 1:\n",
        "        parser.print_help()\n",
        "        sys.exit(1)\n",
        "    return parser.parse_args()\n",
        "\n",
        "def get_resolution(filename):\n",
        "    command = ['ffprobe', '-v', 'error', '-select_streams', 'v:0',\n",
        "               '-show_entries', 'stream=width,height', '-of', 'csv=p=0', filename]\n",
        "    pipe = sp.Popen(command, stdout=sp.PIPE, bufsize=-1)\n",
        "    for line in pipe.stdout:\n",
        "        w, h = line.decode().strip().split(',')\n",
        "        return int(w), int(h)\n",
        "\n",
        "def read_video(filename):\n",
        "    w, h = get_resolution(filename)\n",
        "\n",
        "    command = ['ffmpeg',\n",
        "            '-i', filename,\n",
        "            '-f', 'image2pipe',\n",
        "            '-pix_fmt', 'bgr24',\n",
        "            '-vsync', '0',\n",
        "            '-vcodec', 'rawvideo', '-']\n",
        "\n",
        "    pipe = sp.Popen(command, stdout=sp.PIPE, bufsize=-1)\n",
        "    while True:\n",
        "        data = pipe.stdout.read(w*h*3)\n",
        "        if not data:\n",
        "            break\n",
        "        yield np.frombuffer(data, dtype='uint8').reshape((h, w, 3))\n",
        "\n",
        "\n",
        "def main(args):\n",
        "\n",
        "    cfg = get_cfg()\n",
        "    cfg.merge_from_file(model_zoo.get_config_file(args.cfg))\n",
        "    cfg.MODEL.ROI_HEADS.SCORE_THRESH_TEST = 0.7\n",
        "    cfg.MODEL.WEIGHTS = model_zoo.get_checkpoint_url(args.cfg)\n",
        "    predictor = DefaultPredictor(cfg)\n",
        "\n",
        "\n",
        "    if os.path.isdir(args.im_or_folder):\n",
        "        im_list = glob.iglob(args.im_or_folder + '/*.' + args.image_ext)\n",
        "    else:\n",
        "        im_list = [args.im_or_folder]\n",
        "\n",
        "    for video_name in im_list:\n",
        "        out_name = os.path.join(\n",
        "                args.output_dir, os.path.basename(video_name)\n",
        "            )\n",
        "        print('Processing {}'.format(video_name))\n",
        "\n",
        "        boxes = []\n",
        "        segments = []\n",
        "        keypoints = []\n",
        "\n",
        "        for frame_i, im in enumerate(read_video(video_name)):\n",
        "            t = time.time()\n",
        "            outputs = predictor(im)['instances'].to('cpu')\n",
        "\n",
        "            print('Frame {} processed in {:.3f}s'.format(frame_i, time.time() - t))\n",
        "\n",
        "            has_bbox = False\n",
        "            if outputs.has('pred_boxes'):\n",
        "                bbox_tensor = outputs.pred_boxes.tensor.numpy()\n",
        "                if len(bbox_tensor) > 0:\n",
        "                    has_bbox = True\n",
        "                    scores = outputs.scores.numpy()[:, None]\n",
        "                    bbox_tensor = np.concatenate((bbox_tensor, scores), axis=1)\n",
        "            if has_bbox:\n",
        "                kps = outputs.pred_keypoints.numpy()\n",
        "                kps_xy = kps[:, :, :2]\n",
        "                kps_prob = kps[:, :, 2:3]\n",
        "                kps_logit = np.zeros_like(kps_prob) # Dummy\n",
        "                kps = np.concatenate((kps_xy, kps_logit, kps_prob), axis=2)\n",
        "                kps = kps.transpose(0, 2, 1)\n",
        "            else:\n",
        "                kps = []\n",
        "                bbox_tensor = []\n",
        "\n",
        "            # Mimic Detectron1 format\n",
        "            cls_boxes = [[], bbox_tensor]\n",
        "            cls_keyps = [[], kps]\n",
        "\n",
        "            boxes.append(cls_boxes)\n",
        "            segments.append(None)\n",
        "            keypoints.append(cls_keyps)\n",
        "\n",
        "\n",
        "        # Video resolution\n",
        "        metadata = {\n",
        "            'w': im.shape[1],\n",
        "            'h': im.shape[0],\n",
        "        }\n",
        "\n",
        "        datas = {\n",
        "            'boxes': boxes,\n",
        "            'segments': segments,\n",
        "            'keypoints': keypoints,\n",
        "            'metadata': metadata\n",
        "        }\n",
        "        for key, value in datas.items():\n",
        "            datas[key] = np.array(value, dtype=object)\n",
        "\n",
        "        np.savez_compressed(out_name, **datas)\n",
        "\n",
        "\n",
        "if __name__ == '__main__':\n",
        "    setup_logger()\n",
        "    args = parse_args()\n",
        "    main(args)\n"
      ],
      "metadata": {
        "id": "hX0ZM8-0bWTr"
      },
      "execution_count": 18,
      "outputs": []
    },
    {
      "cell_type": "markdown",
      "source": [
        "## After replacing the script, can run all the code cells below"
      ],
      "metadata": {
        "id": "e2AWLoVPcAWu"
      }
    },
    {
      "cell_type": "code",
      "source": [
        "!python infer_video_d2.py \\\n",
        "    --cfg COCO-Keypoints/keypoint_rcnn_R_101_FPN_3x.yaml \\\n",
        "    --output-dir /content/output/ \\\n",
        "    --image-ext mp4 \\\n",
        "    /content/inputs"
      ],
      "metadata": {
        "colab": {
          "base_uri": "https://localhost:8080/"
        },
        "id": "zUazsTlT779n",
        "outputId": "1a330bf1-b20d-4bc1-f17c-248b3561cd65"
      },
      "execution_count": 20,
      "outputs": [
        {
          "output_type": "stream",
          "name": "stdout",
          "text": [
            "\u001b[32m[07/18 06:04:21 d2.checkpoint.detection_checkpoint]: \u001b[0m[DetectionCheckpointer] Loading from https://dl.fbaipublicfiles.com/detectron2/COCO-Keypoints/keypoint_rcnn_R_101_FPN_3x/138363331/model_final_997cc7.pkl ...\n",
            "Processing /content/inputs/walk1.mp4\n",
            "ffmpeg version 4.4.2-0ubuntu0.22.04.1 Copyright (c) 2000-2021 the FFmpeg developers\n",
            "  built with gcc 11 (Ubuntu 11.2.0-19ubuntu1)\n",
            "  configuration: --prefix=/usr --extra-version=0ubuntu0.22.04.1 --toolchain=hardened --libdir=/usr/lib/x86_64-linux-gnu --incdir=/usr/include/x86_64-linux-gnu --arch=amd64 --enable-gpl --disable-stripping --enable-gnutls --enable-ladspa --enable-libaom --enable-libass --enable-libbluray --enable-libbs2b --enable-libcaca --enable-libcdio --enable-libcodec2 --enable-libdav1d --enable-libflite --enable-libfontconfig --enable-libfreetype --enable-libfribidi --enable-libgme --enable-libgsm --enable-libjack --enable-libmp3lame --enable-libmysofa --enable-libopenjpeg --enable-libopenmpt --enable-libopus --enable-libpulse --enable-librabbitmq --enable-librubberband --enable-libshine --enable-libsnappy --enable-libsoxr --enable-libspeex --enable-libsrt --enable-libssh --enable-libtheora --enable-libtwolame --enable-libvidstab --enable-libvorbis --enable-libvpx --enable-libwebp --enable-libx265 --enable-libxml2 --enable-libxvid --enable-libzimg --enable-libzmq --enable-libzvbi --enable-lv2 --enable-omx --enable-openal --enable-opencl --enable-opengl --enable-sdl2 --enable-pocketsphinx --enable-librsvg --enable-libmfx --enable-libdc1394 --enable-libdrm --enable-libiec61883 --enable-chromaprint --enable-frei0r --enable-libx264 --enable-shared\n",
            "  libavutil      56. 70.100 / 56. 70.100\n",
            "  libavcodec     58.134.100 / 58.134.100\n",
            "  libavformat    58. 76.100 / 58. 76.100\n",
            "  libavdevice    58. 13.100 / 58. 13.100\n",
            "  libavfilter     7.110.100 /  7.110.100\n",
            "  libswscale      5.  9.100 /  5.  9.100\n",
            "  libswresample   3.  9.100 /  3.  9.100\n",
            "  libpostproc    55.  9.100 / 55.  9.100\n",
            "Input #0, mov,mp4,m4a,3gp,3g2,mj2, from '/content/inputs/walk1.mp4':\n",
            "  Metadata:\n",
            "    major_brand     : mp42\n",
            "    minor_version   : 0\n",
            "    compatible_brands: mp42mp41isomavc1\n",
            "    creation_time   : 2021-05-30T08:44:23.000000Z\n",
            "  Duration: 00:00:09.43, start: 0.000000, bitrate: 4886 kb/s\n",
            "  Stream #0:0(und): Video: h264 (High) (avc1 / 0x31637661), yuv420p(tv, bt709), 1080x1920, 4882 kb/s, 30 fps, 30 tbr, 30 tbn, 60 tbc (default)\n",
            "    Metadata:\n",
            "      creation_time   : 2021-05-30T08:44:23.000000Z\n",
            "      handler_name    : L-SMASH Video Handler\n",
            "      vendor_id       : [0][0][0][0]\n",
            "      encoder         : AVC Coding\n",
            "Stream mapping:\n",
            "  Stream #0:0 -> #0:0 (h264 (native) -> rawvideo (native))\n",
            "Press [q] to stop, [?] for help\n",
            "Output #0, image2pipe, to 'pipe:':\n",
            "  Metadata:\n",
            "    major_brand     : mp42\n",
            "    minor_version   : 0\n",
            "    compatible_brands: mp42mp41isomavc1\n",
            "    encoder         : Lavf58.76.100\n",
            "  Stream #0:0(und): Video: rawvideo (BGR[24] / 0x18524742), bgr24(pc, gbr/bt709/bt709, progressive), 1080x1920, q=2-31, 1492992 kb/s, 30 fps, 30 tbn (default)\n",
            "    Metadata:\n",
            "      creation_time   : 2021-05-30T08:44:23.000000Z\n",
            "      handler_name    : L-SMASH Video Handler\n",
            "      vendor_id       : [0][0][0][0]\n",
            "      encoder         : Lavc58.134.100 rawvideo\n",
            "/usr/local/lib/python3.10/dist-packages/torch/functional.py:512: UserWarning: torch.meshgrid: in an upcoming release, it will be required to pass the indexing argument. (Triggered internally at ../aten/src/ATen/native/TensorShape.cpp:3587.)\n",
            "  return _VF.meshgrid(tensors, **kwargs)  # type: ignore[attr-defined]\n",
            "Frame 0 processed in 2.557s\n",
            "Frame 1 processed in 0.076s\n",
            "Frame 2 processed in 0.071s\n",
            "Frame 3 processed in 0.070s\n",
            "Frame 4 processed in 0.070s\n",
            "Frame 5 processed in 0.070s\n",
            "Frame 6 processed in 0.068s\n",
            "Frame 7 processed in 0.069s\n",
            "Frame 8 processed in 0.069s\n",
            "Frame 9 processed in 0.070s\n",
            "Frame 10 processed in 0.069s\n",
            "Frame 11 processed in 0.070s\n",
            "Frame 12 processed in 0.069s\n",
            "Frame 13 processed in 0.076s\n",
            "Frame 14 processed in 0.068s\n",
            "Frame 15 processed in 0.069s\n",
            "Frame 16 processed in 0.069s\n",
            "Frame 17 processed in 0.069s\n",
            "Frame 18 processed in 0.069s\n",
            "Frame 19 processed in 0.069s\n",
            "Frame 20 processed in 0.069s\n",
            "Frame 21 processed in 0.068s\n",
            "Frame 22 processed in 0.068s\n",
            "Frame 23 processed in 0.069s\n",
            "Frame 24 processed in 0.069s\n",
            "Frame 25 processed in 0.070s\n",
            "Frame 26 processed in 0.074s\n",
            "Frame 27 processed in 0.069s\n",
            "Frame 28 processed in 0.068s\n",
            "Frame 29 processed in 0.069s\n",
            "Frame 30 processed in 0.069s\n",
            "Frame 31 processed in 0.069s\n",
            "Frame 32 processed in 0.069s\n",
            "Frame 33 processed in 0.070s\n",
            "Frame 34 processed in 0.080s\n",
            "Frame 35 processed in 0.069s\n",
            "Frame 36 processed in 0.068s\n",
            "Frame 37 processed in 0.069s\n",
            "Frame 38 processed in 0.068s\n",
            "Frame 39 processed in 0.074s\n",
            "Frame 40 processed in 0.071s\n",
            "Frame 41 processed in 0.069s\n",
            "Frame 42 processed in 0.077s\n",
            "Frame 43 processed in 0.072s\n",
            "Frame 44 processed in 0.070s\n",
            "Frame 45 processed in 0.071s\n",
            "Frame 46 processed in 0.072s\n",
            "Frame 47 processed in 0.072s\n",
            "Frame 48 processed in 0.072s\n",
            "Frame 49 processed in 0.074s\n",
            "Frame 50 processed in 0.073s\n",
            "Frame 51 processed in 0.072s\n",
            "Frame 52 processed in 0.077s\n",
            "Frame 53 processed in 0.072s\n",
            "Frame 54 processed in 0.071s\n",
            "Frame 55 processed in 0.071s\n",
            "Frame 56 processed in 0.071s\n",
            "Frame 57 processed in 0.071s\n",
            "Frame 58 processed in 0.071s\n",
            "Frame 59 processed in 0.071s\n",
            "Frame 60 processed in 0.071s\n",
            "Frame 61 processed in 0.071s\n",
            "Frame 62 processed in 0.076s\n",
            "Frame 63 processed in 0.072s\n",
            "Frame 64 processed in 0.074s\n",
            "Frame 65 processed in 0.079s\n",
            "Frame 66 processed in 0.070s\n",
            "Frame 67 processed in 0.070s\n",
            "Frame 68 processed in 0.070s\n",
            "Frame 69 processed in 0.071s\n",
            "Frame 70 processed in 0.070s\n",
            "Frame 71 processed in 0.070s\n",
            "Frame 72 processed in 0.072s\n",
            "Frame 73 processed in 0.070s\n",
            "Frame 74 processed in 0.070s\n",
            "Frame 75 processed in 0.074s\n",
            "Frame 76 processed in 0.071s\n",
            "Frame 77 processed in 0.069s\n",
            "Frame 78 processed in 0.070s\n",
            "Frame 79 processed in 0.069s\n",
            "Frame 80 processed in 0.071s\n",
            "Frame 81 processed in 0.070s\n",
            "Frame 82 processed in 0.070s\n",
            "Frame 83 processed in 0.069s\n",
            "Frame 84 processed in 0.071s\n",
            "Frame 85 processed in 0.068s\n",
            "Frame 86 processed in 0.070s\n",
            "Frame 87 processed in 0.070s\n",
            "Frame 88 processed in 0.071s\n",
            "Frame 89 processed in 0.069s\n",
            "Frame 90 processed in 0.072s\n",
            "Frame 91 processed in 0.070s\n",
            "Frame 92 processed in 0.070s\n",
            "Frame 93 processed in 0.070s\n",
            "Frame 94 processed in 0.069s\n",
            "Frame 95 processed in 0.070s\n",
            "Frame 96 processed in 0.070s\n",
            "Frame 97 processed in 0.069s\n",
            "Frame 98 processed in 0.070s\n",
            "Frame 99 processed in 0.069s\n",
            "Frame 100 processed in 0.077s\n",
            "Frame 101 processed in 0.069s\n",
            "Frame 102 processed in 0.071s\n",
            "Frame 103 processed in 0.071s\n",
            "Frame 104 processed in 0.070s\n",
            "Frame 105 processed in 0.071s\n",
            "Frame 106 processed in 0.070s\n",
            "Frame 107 processed in 0.072s\n",
            "Frame 108 processed in 0.071s\n",
            "Frame 109 processed in 0.071s\n",
            "Frame 110 processed in 0.070s\n",
            "Frame 111 processed in 0.070s\n",
            "Frame 112 processed in 0.070s\n",
            "Frame 113 processed in 0.074s\n",
            "Frame 114 processed in 0.069s\n",
            "Frame 115 processed in 0.070s\n",
            "Frame 116 processed in 0.070s\n",
            "Frame 117 processed in 0.070s\n",
            "Frame 118 processed in 0.069s\n",
            "Frame 119 processed in 0.070s\n",
            "Frame 120 processed in 0.071s\n",
            "Frame 121 processed in 0.070s\n",
            "Frame 122 processed in 0.071s\n",
            "Frame 123 processed in 0.071s\n",
            "Frame 124 processed in 0.070s\n",
            "Frame 125 processed in 0.070s\n",
            "Frame 126 processed in 0.073s\n",
            "Frame 127 processed in 0.071s\n",
            "Frame 128 processed in 0.073s\n",
            "Frame 129 processed in 0.072s\n",
            "Frame 130 processed in 0.071s\n",
            "Frame 131 processed in 0.071s\n",
            "Frame 132 processed in 0.070s\n",
            "Frame 133 processed in 0.071s\n",
            "Frame 134 processed in 0.070s\n",
            "Frame 135 processed in 0.070s\n",
            "Frame 136 processed in 0.071s\n",
            "Frame 137 processed in 0.070s\n",
            "Frame 138 processed in 0.069s\n",
            "Frame 139 processed in 0.074s\n",
            "Frame 140 processed in 0.069s\n",
            "Frame 141 processed in 0.069s\n",
            "Frame 142 processed in 0.070s\n",
            "Frame 143 processed in 0.069s\n",
            "Frame 144 processed in 0.069s\n",
            "Frame 145 processed in 0.069s\n",
            "Frame 146 processed in 0.069s\n",
            "Frame 147 processed in 0.069s\n",
            "Frame 148 processed in 0.069s\n",
            "Frame 149 processed in 0.069s\n",
            "Frame 150 processed in 0.068s\n",
            "Frame 151 processed in 0.070s\n",
            "Frame 152 processed in 0.074s\n",
            "Frame 153 processed in 0.068s\n",
            "Frame 154 processed in 0.069s\n",
            "Frame 155 processed in 0.069s\n",
            "Frame 156 processed in 0.069s\n",
            "Frame 157 processed in 0.069s\n",
            "Frame 158 processed in 0.071s\n",
            "Frame 159 processed in 0.070s\n",
            "Frame 160 processed in 0.069s\n",
            "Frame 161 processed in 0.069s\n",
            "Frame 162 processed in 0.070s\n",
            "Frame 163 processed in 0.071s\n",
            "Frame 164 processed in 0.070s\n",
            "Frame 165 processed in 0.075s\n",
            "Frame 166 processed in 0.070s\n",
            "Frame 167 processed in 0.077s\n",
            "Frame 168 processed in 0.078s\n",
            "Frame 169 processed in 0.070s\n",
            "Frame 170 processed in 0.069s\n",
            "Frame 171 processed in 0.069s\n",
            "Frame 172 processed in 0.070s\n",
            "Frame 173 processed in 0.071s\n",
            "Frame 174 processed in 0.069s\n",
            "Frame 175 processed in 0.068s\n",
            "Frame 176 processed in 0.069s\n",
            "Frame 177 processed in 0.069s\n",
            "Frame 178 processed in 0.069s\n",
            "Frame 179 processed in 0.068s\n",
            "Frame 180 processed in 0.069s\n",
            "Frame 181 processed in 0.069s\n",
            "Frame 182 processed in 0.069s\n",
            "Frame 183 processed in 0.070s\n",
            "Frame 184 processed in 0.069s\n",
            "Frame 185 processed in 0.069s\n",
            "Frame 186 processed in 0.143s\n",
            "Frame 187 processed in 0.071s\n",
            "Frame 188 processed in 0.070s\n",
            "Frame 189 processed in 0.070s\n",
            "Frame 190 processed in 0.070s\n",
            "Frame 191 processed in 0.069s\n",
            "Frame 192 processed in 0.069s\n",
            "Frame 193 processed in 0.068s\n",
            "Frame 194 processed in 0.069s\n",
            "Frame 195 processed in 0.068s\n",
            "Frame 196 processed in 0.068s\n",
            "Frame 197 processed in 0.068s\n",
            "Frame 198 processed in 0.069s\n",
            "Frame 199 processed in 0.069s\n",
            "Frame 200 processed in 0.069s\n",
            "Frame 201 processed in 0.070s\n",
            "Frame 202 processed in 0.069s\n",
            "Frame 203 processed in 0.068s\n",
            "Frame 204 processed in 0.070s\n",
            "Frame 205 processed in 0.070s\n",
            "Frame 206 processed in 0.071s\n",
            "Frame 207 processed in 0.069s\n",
            "Frame 208 processed in 0.069s\n",
            "Frame 209 processed in 0.068s\n",
            "Frame 210 processed in 0.070s\n",
            "Frame 211 processed in 0.071s\n",
            "Frame 212 processed in 0.069s\n",
            "Frame 213 processed in 0.068s\n",
            "Frame 214 processed in 0.071s\n",
            "Frame 215 processed in 0.069s\n",
            "Frame 216 processed in 0.069s\n",
            "Frame 217 processed in 0.071s\n",
            "Frame 218 processed in 0.070s\n",
            "Frame 219 processed in 0.070s\n",
            "Frame 220 processed in 0.071s\n",
            "Frame 221 processed in 0.068s\n",
            "Frame 222 processed in 0.068s\n",
            "Frame 223 processed in 0.069s\n",
            "Frame 224 processed in 0.070s\n",
            "Frame 225 processed in 0.069s\n",
            "Frame 226 processed in 0.069s\n",
            "Frame 227 processed in 0.070s\n",
            "Frame 228 processed in 0.069s\n",
            "Frame 229 processed in 0.068s\n",
            "Frame 230 processed in 0.068s\n",
            "Frame 231 processed in 0.068s\n",
            "Frame 232 processed in 0.070s\n",
            "Frame 233 processed in 0.069s\n",
            "Frame 234 processed in 0.068s\n",
            "Frame 235 processed in 0.069s\n",
            "Frame 236 processed in 0.069s\n",
            "Frame 237 processed in 0.070s\n",
            "Frame 238 processed in 0.069s\n",
            "Frame 239 processed in 0.071s\n",
            "Frame 240 processed in 0.069s\n",
            "Frame 241 processed in 0.069s\n",
            "Frame 242 processed in 0.070s\n",
            "Frame 243 processed in 0.069s\n",
            "Frame 244 processed in 0.070s\n",
            "Frame 245 processed in 0.069s\n",
            "Frame 246 processed in 0.070s\n",
            "Frame 247 processed in 0.070s\n",
            "Frame 248 processed in 0.070s\n",
            "Frame 249 processed in 0.069s\n",
            "Frame 250 processed in 0.070s\n",
            "Frame 251 processed in 0.069s\n",
            "Frame 252 processed in 0.069s\n",
            "Frame 253 processed in 0.069s\n",
            "Frame 254 processed in 0.068s\n",
            "Frame 255 processed in 0.069s\n",
            "Frame 256 processed in 0.071s\n",
            "Frame 257 processed in 0.069s\n",
            "Frame 258 processed in 0.070s\n",
            "Frame 259 processed in 0.069s\n",
            "Frame 260 processed in 0.069s\n",
            "Frame 261 processed in 0.069s\n",
            "Frame 262 processed in 0.069s\n",
            "Frame 263 processed in 0.068s\n",
            "Frame 264 processed in 0.068s\n",
            "Frame 265 processed in 0.069s\n",
            "Frame 266 processed in 0.070s\n",
            "Frame 267 processed in 0.071s\n",
            "Frame 268 processed in 0.070s\n",
            "Frame 269 processed in 0.070s\n",
            "Frame 270 processed in 0.070s\n",
            "Frame 271 processed in 0.070s\n",
            "Frame 272 processed in 0.070s\n",
            "Frame 273 processed in 0.068s\n",
            "Frame 274 processed in 0.070s\n",
            "Frame 275 processed in 0.070s\n",
            "Frame 276 processed in 0.069s\n",
            "Frame 277 processed in 0.068s\n",
            "Frame 278 processed in 0.069s\n",
            "Frame 279 processed in 0.069s\n",
            "Frame 280 processed in 0.069s\n",
            "Frame 281 processed in 0.069s\n",
            "frame=  283 fps= 12 q=-0.0 Lsize= 1719225kB time=00:00:09.43 bitrate=1492992.1kbits/s speed=0.403x    \n",
            "video:1719225kB audio:0kB subtitle:0kB other streams:0kB global headers:0kB muxing overhead: 0.000000%\n",
            "Frame 282 processed in 0.072s\n"
          ]
        }
      ]
    },
    {
      "cell_type": "code",
      "source": [
        "cd /content/VideoPose3D/data"
      ],
      "metadata": {
        "colab": {
          "base_uri": "https://localhost:8080/"
        },
        "id": "wAQqhTIv8lD_",
        "outputId": "85c63300-cbdf-48df-ff2b-2a4723987b0b"
      },
      "execution_count": 21,
      "outputs": [
        {
          "output_type": "stream",
          "name": "stdout",
          "text": [
            "/content/VideoPose3D/data\n"
          ]
        }
      ]
    },
    {
      "cell_type": "code",
      "source": [
        "!python prepare_data_2d_custom.py -i /content/output -o myvideos"
      ],
      "metadata": {
        "colab": {
          "base_uri": "https://localhost:8080/"
        },
        "id": "q_D3k2ZgAAs4",
        "outputId": "0b612704-e4b6-4b06-9a91-b9aeae271774"
      },
      "execution_count": 22,
      "outputs": [
        {
          "output_type": "stream",
          "name": "stdout",
          "text": [
            "Parsing 2D detections from /content/output\n",
            "Processing /content/output/walk1.mp4.npz\n",
            "283 total frames processed\n",
            "0 frames were interpolated\n",
            "----------\n",
            "Saving...\n",
            "Done.\n"
          ]
        }
      ]
    },
    {
      "cell_type": "code",
      "source": [
        "cd /content/VideoPose3D"
      ],
      "metadata": {
        "colab": {
          "base_uri": "https://localhost:8080/"
        },
        "id": "pqDMmFUXAF_C",
        "outputId": "c9fc9892-15f3-460b-c753-7768d51cf017"
      },
      "execution_count": 23,
      "outputs": [
        {
          "output_type": "stream",
          "name": "stdout",
          "text": [
            "/content/VideoPose3D\n"
          ]
        }
      ]
    },
    {
      "cell_type": "code",
      "source": [
        "#so all the videos are combined into the custom dataset. now we can run pose predictions on one of the videos using the code below\n",
        "# --viz-subject {name of video you want to run model one}\n",
        "# --viz-video {path to the video}\n",
        "# --viz-output {where u want the output video to be stored}\n",
        "# --viz-export {where you want the coordinates of the keypoints to be stored}\n",
        "!python run.py -d custom -k myvideos -arc 3,3,3,3,3 -c checkpoint --evaluate pretrained_h36m_detectron_coco.bin --render --viz-subject walk1.mp4 --viz-action custom --viz-camera 0 --viz-video /content/inputs/walk1.mp4 --viz-output /content/results/walk1_result.mp4 --viz-size 6 --viz-export /content/coordinates/walk1_coordinates.npy"
      ],
      "metadata": {
        "colab": {
          "base_uri": "https://localhost:8080/"
        },
        "id": "LDiHv7jPCUJ7",
        "outputId": "c32da9f9-bfc7-4c99-b9a0-0d5b7792f8b4"
      },
      "execution_count": 25,
      "outputs": [
        {
          "output_type": "stream",
          "name": "stdout",
          "text": [
            "Namespace(dataset='custom', keypoints='myvideos', subjects_train='S1,S5,S6,S7,S8', subjects_test='S9,S11', subjects_unlabeled='', actions='*', checkpoint='checkpoint', checkpoint_frequency=10, resume='', evaluate='pretrained_h36m_detectron_coco.bin', render=True, by_subject=False, export_training_curves=False, stride=1, epochs=60, batch_size=1024, dropout=0.25, learning_rate=0.001, lr_decay=0.95, data_augmentation=True, test_time_augmentation=True, architecture='3,3,3,3,3', causal=False, channels=1024, subset=1, downsample=1, warmup=1, no_eval=False, dense=False, disable_optimizations=False, linear_projection=False, bone_length_term=True, no_proj=False, viz_subject='walk1.mp4', viz_action='custom', viz_camera=0, viz_video='/content/inputs/walk1.mp4', viz_skip=0, viz_output='/content/results/walk1_result.mp4', viz_export='/content/coordinates/walk1_coordinates.npy', viz_bitrate=3000, viz_no_ground_truth=False, viz_limit=-1, viz_downsample=1, viz_size=6)\n",
            "Loading dataset...\n",
            "Preparing data...\n",
            "Loading 2D detections...\n",
            "INFO: Receptive field: 243 frames\n",
            "INFO: Trainable parameter count: 16952371\n",
            "Loading checkpoint checkpoint/pretrained_h36m_detectron_coco.bin\n",
            "This model was trained for 80 epochs\n",
            "INFO: Testing on 283 frames\n",
            "Rendering...\n",
            "INFO: this action is unlabeled. Ground truth will not be rendered.\n",
            "Exporting joint positions to /content/coordinates/walk1_coordinates.npy\n",
            "ffmpeg version 4.4.2-0ubuntu0.22.04.1 Copyright (c) 2000-2021 the FFmpeg developers\n",
            "  built with gcc 11 (Ubuntu 11.2.0-19ubuntu1)\n",
            "  configuration: --prefix=/usr --extra-version=0ubuntu0.22.04.1 --toolchain=hardened --libdir=/usr/lib/x86_64-linux-gnu --incdir=/usr/include/x86_64-linux-gnu --arch=amd64 --enable-gpl --disable-stripping --enable-gnutls --enable-ladspa --enable-libaom --enable-libass --enable-libbluray --enable-libbs2b --enable-libcaca --enable-libcdio --enable-libcodec2 --enable-libdav1d --enable-libflite --enable-libfontconfig --enable-libfreetype --enable-libfribidi --enable-libgme --enable-libgsm --enable-libjack --enable-libmp3lame --enable-libmysofa --enable-libopenjpeg --enable-libopenmpt --enable-libopus --enable-libpulse --enable-librabbitmq --enable-librubberband --enable-libshine --enable-libsnappy --enable-libsoxr --enable-libspeex --enable-libsrt --enable-libssh --enable-libtheora --enable-libtwolame --enable-libvidstab --enable-libvorbis --enable-libvpx --enable-libwebp --enable-libx265 --enable-libxml2 --enable-libxvid --enable-libzimg --enable-libzmq --enable-libzvbi --enable-lv2 --enable-omx --enable-openal --enable-opencl --enable-opengl --enable-sdl2 --enable-pocketsphinx --enable-librsvg --enable-libmfx --enable-libdc1394 --enable-libdrm --enable-libiec61883 --enable-chromaprint --enable-frei0r --enable-libx264 --enable-shared\n",
            "  libavutil      56. 70.100 / 56. 70.100\n",
            "  libavcodec     58.134.100 / 58.134.100\n",
            "  libavformat    58. 76.100 / 58. 76.100\n",
            "  libavdevice    58. 13.100 / 58. 13.100\n",
            "  libavfilter     7.110.100 /  7.110.100\n",
            "  libswscale      5.  9.100 /  5.  9.100\n",
            "  libswresample   3.  9.100 /  3.  9.100\n",
            "  libpostproc    55.  9.100 / 55.  9.100\n",
            "Input #0, mov,mp4,m4a,3gp,3g2,mj2, from '/content/inputs/walk1.mp4':\n",
            "  Metadata:\n",
            "    major_brand     : mp42\n",
            "    minor_version   : 0\n",
            "    compatible_brands: mp42mp41isomavc1\n",
            "    creation_time   : 2021-05-30T08:44:23.000000Z\n",
            "  Duration: 00:00:09.43, start: 0.000000, bitrate: 4886 kb/s\n",
            "  Stream #0:0(und): Video: h264 (High) (avc1 / 0x31637661), yuv420p(tv, bt709), 1080x1920, 4882 kb/s, 30 fps, 30 tbr, 30 tbn, 60 tbc (default)\n",
            "    Metadata:\n",
            "      creation_time   : 2021-05-30T08:44:23.000000Z\n",
            "      handler_name    : L-SMASH Video Handler\n",
            "      vendor_id       : [0][0][0][0]\n",
            "      encoder         : AVC Coding\n",
            "Stream mapping:\n",
            "  Stream #0:0 -> #0:0 (h264 (native) -> rawvideo (native))\n",
            "Press [q] to stop, [?] for help\n",
            "Output #0, image2pipe, to 'pipe:':\n",
            "  Metadata:\n",
            "    major_brand     : mp42\n",
            "    minor_version   : 0\n",
            "    compatible_brands: mp42mp41isomavc1\n",
            "    encoder         : Lavf58.76.100\n",
            "  Stream #0:0(und): Video: rawvideo (RGB[24] / 0x18424752), rgb24(pc, gbr/bt709/bt709, progressive), 1080x1920, q=2-31, 1492992 kb/s, 30 fps, 30 tbn (default)\n",
            "    Metadata:\n",
            "      creation_time   : 2021-05-30T08:44:23.000000Z\n",
            "      handler_name    : L-SMASH Video Handler\n",
            "      vendor_id       : [0][0][0][0]\n",
            "      encoder         : Lavc58.134.100 rawvideo\n",
            "frame=  283 fps=114 q=-0.0 Lsize= 1719225kB time=00:00:09.43 bitrate=1492992.1kbits/s speed= 3.8x    \n",
            "video:1719225kB audio:0kB subtitle:0kB other streams:0kB global headers:0kB muxing overhead: 0.000000%\n",
            "/content/VideoPose3D/common/visualization.py:198: UserWarning: Tight layout not applied. The left and right margins cannot be made large enough to accommodate all axes decorations.\n",
            "  fig.tight_layout()\n"
          ]
        }
      ]
    },
    {
      "cell_type": "code",
      "source": [
        "## visualize coordinates\n",
        "import numpy as np\n",
        "\n",
        "coordinates = np.load('/content/coordinates/walk1_coordinates.npy')\n",
        "print(coordinates)\n",
        "print(coordinates.shape)\n"
      ],
      "metadata": {
        "colab": {
          "base_uri": "https://localhost:8080/"
        },
        "id": "8jrcR4nxaKnn",
        "outputId": "8c8f9514-9004-46d8-c5a4-c457a7d12652"
      },
      "execution_count": 29,
      "outputs": [
        {
          "output_type": "stream",
          "name": "stdout",
          "text": [
            "[[[ 4.09154745e-06 -2.76590799e-05  3.06225297e-06]\n",
            "  [-1.27835065e-01  5.95791079e-03 -1.71973705e-02]\n",
            "  [-7.66793713e-02  3.01770687e-01 -2.25647211e-01]\n",
            "  ...\n",
            "  [-1.53635502e-01 -4.05379951e-01 -7.80211836e-02]\n",
            "  [-2.57844061e-01 -1.72586724e-01  1.17575545e-02]\n",
            "  [-2.69642055e-01  5.97565770e-02  1.12849548e-02]]\n",
            "\n",
            " [[ 4.25412145e-06 -2.77193794e-05  3.06180573e-06]\n",
            "  [-1.27861947e-01  6.01296499e-03 -1.70075335e-02]\n",
            "  [-7.78244287e-02  3.03656876e-01 -2.26832896e-01]\n",
            "  ...\n",
            "  [-1.54483497e-01 -4.04991806e-01 -7.88244158e-02]\n",
            "  [-2.58054256e-01 -1.72352389e-01  1.20168366e-02]\n",
            "  [-2.70157397e-01  6.05728477e-02  1.33675337e-02]]\n",
            "\n",
            " [[ 4.33266723e-06 -2.76680857e-05  3.10415840e-06]\n",
            "  [-1.27869144e-01  5.81290480e-03 -1.69669613e-02]\n",
            "  [-7.89503306e-02  3.05340350e-01 -2.26818249e-01]\n",
            "  ...\n",
            "  [-1.54303327e-01 -4.04935002e-01 -8.04003030e-02]\n",
            "  [-2.56939441e-01 -1.71614259e-01  1.02679133e-02]\n",
            "  [-2.69854248e-01  6.18430078e-02  1.16403513e-02]]\n",
            "\n",
            " ...\n",
            "\n",
            " [[-2.10135113e-06 -2.92398927e-05 -1.83362249e-06]\n",
            "  [-5.72013669e-02 -1.18529983e-02  1.05810568e-01]\n",
            "  [-1.24419078e-01  4.61321890e-01  1.86943948e-01]\n",
            "  ...\n",
            "  [-9.90128238e-03 -4.23592567e-01  5.65704070e-02]\n",
            "  [-5.33062927e-02 -1.52804315e-01  1.75651178e-01]\n",
            "  [-8.64106119e-02  8.66840333e-02  1.91354245e-01]]\n",
            "\n",
            " [[-1.95187386e-06 -2.97733586e-05 -1.79441236e-06]\n",
            "  [-5.84083945e-02 -1.17725395e-02  1.05350547e-01]\n",
            "  [-1.20591812e-01  4.62716103e-01  1.85626805e-01]\n",
            "  ...\n",
            "  [-9.47783422e-03 -4.23181891e-01  5.57922348e-02]\n",
            "  [-5.62258698e-02 -1.51771188e-01  1.72532156e-01]\n",
            "  [-8.92557949e-02  8.71884227e-02  1.82388246e-01]]\n",
            "\n",
            " [[-1.94846507e-06 -3.02819954e-05 -1.82255098e-06]\n",
            "  [-5.92202470e-02 -1.18379127e-02  1.05469108e-01]\n",
            "  [-1.18960798e-01  4.63568032e-01  1.84505820e-01]\n",
            "  ...\n",
            "  [-1.01978835e-02 -4.22988713e-01  5.65800257e-02]\n",
            "  [-5.82483225e-02 -1.50213599e-01  1.73738360e-01]\n",
            "  [-9.48137045e-02  8.82230923e-02  1.81088194e-01]]]\n",
            "(283, 17, 3)\n"
          ]
        }
      ]
    },
    {
      "cell_type": "code",
      "source": [],
      "metadata": {
        "id": "HcpOPvU5dBQN"
      },
      "execution_count": null,
      "outputs": []
    }
  ]
}